{
 "cells": [
  {
   "cell_type": "markdown",
   "id": "dd8109da",
   "metadata": {},
   "source": [
    "# Proyecto del Día 9: Consulta de Temperaturas Interactivo por Ciudad y Mes\n",
    "\n",
    "## Objetivo\n",
    "\n",
    "El proyecto propuesto consistirá en la creación de un programa interactivo para la visualización de datos meteorológicos. Este programa permitirá a los usuarios visualizar los registros climáticos eligiendo el lugar y el més. El objetivo es aplicar los conceptos de creación de gráficos, personalización de estilos y combinarlo con las habilidades de desarrollo de programas con Python.\n",
    "\n",
    "## Consigna\n",
    "\n",
    "1. **Cargar un DataFrame** con los datos meteorológicos provistos en el archivo descargable de esta lección.\n",
    "2. Asegúrate de que las **fechas** estén en el **formato correcto** para su manipulación posterior.\n",
    "3. Crea un programa (una función o un conjunto de funciones) que le pida al usuario que seleccione una **ciudad** de la lista de ciudades disponibles en nuestro DataFrame, y un **mes** del año.\n",
    "4. Muéstrale al usuario un gráfico que muestre las temperaturas mínimas y máximas que se registraron en la ciudad elegida durante el mes elegido.\n",
    "5. El programa debe preguntarle al usuario si desea seguir haciendo consultas o no.\n",
    "\n",
    "**¡Mucha suerte!**"
   ]
  },
  {
   "cell_type": "code",
   "execution_count": 1,
   "id": "d4e0a9d1",
   "metadata": {},
   "outputs": [],
   "source": [
    "import pandas as pd\n",
    "import matplotlib.pyplot as plt\n",
    "import numpy as np"
   ]
  },
  {
   "cell_type": "code",
   "execution_count": 3,
   "id": "e6a70795-1432-4c79-9ce8-1b5d83e648c4",
   "metadata": {},
   "outputs": [
    {
     "data": {
      "text/html": [
       "<div>\n",
       "<style scoped>\n",
       "    .dataframe tbody tr th:only-of-type {\n",
       "        vertical-align: middle;\n",
       "    }\n",
       "\n",
       "    .dataframe tbody tr th {\n",
       "        vertical-align: top;\n",
       "    }\n",
       "\n",
       "    .dataframe thead th {\n",
       "        text-align: right;\n",
       "    }\n",
       "</style>\n",
       "<table border=\"1\" class=\"dataframe\">\n",
       "  <thead>\n",
       "    <tr style=\"text-align: right;\">\n",
       "      <th></th>\n",
       "      <th>Fecha</th>\n",
       "      <th>Ciudad</th>\n",
       "      <th>Temperatura Maxima</th>\n",
       "      <th>Temperatura Minima</th>\n",
       "      <th>Precipitacion</th>\n",
       "      <th>Velocidad del Viento</th>\n",
       "      <th>Humedad Relativa</th>\n",
       "    </tr>\n",
       "  </thead>\n",
       "  <tbody>\n",
       "    <tr>\n",
       "      <th>0</th>\n",
       "      <td>1/1/2023</td>\n",
       "      <td>Buenos Aires</td>\n",
       "      <td>27</td>\n",
       "      <td>18</td>\n",
       "      <td>0.0</td>\n",
       "      <td>22.7</td>\n",
       "      <td>68.8</td>\n",
       "    </tr>\n",
       "    <tr>\n",
       "      <th>1</th>\n",
       "      <td>1/1/2023</td>\n",
       "      <td>Cordoba</td>\n",
       "      <td>35</td>\n",
       "      <td>18</td>\n",
       "      <td>0.0</td>\n",
       "      <td>33.8</td>\n",
       "      <td>61.7</td>\n",
       "    </tr>\n",
       "    <tr>\n",
       "      <th>2</th>\n",
       "      <td>1/1/2023</td>\n",
       "      <td>Rosario</td>\n",
       "      <td>23</td>\n",
       "      <td>21</td>\n",
       "      <td>0.0</td>\n",
       "      <td>10.6</td>\n",
       "      <td>80.0</td>\n",
       "    </tr>\n",
       "    <tr>\n",
       "      <th>3</th>\n",
       "      <td>1/1/2023</td>\n",
       "      <td>Mendoza</td>\n",
       "      <td>35</td>\n",
       "      <td>21</td>\n",
       "      <td>0.0</td>\n",
       "      <td>23.8</td>\n",
       "      <td>76.8</td>\n",
       "    </tr>\n",
       "    <tr>\n",
       "      <th>4</th>\n",
       "      <td>1/1/2023</td>\n",
       "      <td>Tucuman</td>\n",
       "      <td>36</td>\n",
       "      <td>18</td>\n",
       "      <td>17.2</td>\n",
       "      <td>25.7</td>\n",
       "      <td>54.9</td>\n",
       "    </tr>\n",
       "    <tr>\n",
       "      <th>...</th>\n",
       "      <td>...</td>\n",
       "      <td>...</td>\n",
       "      <td>...</td>\n",
       "      <td>...</td>\n",
       "      <td>...</td>\n",
       "      <td>...</td>\n",
       "      <td>...</td>\n",
       "    </tr>\n",
       "    <tr>\n",
       "      <th>1820</th>\n",
       "      <td>31/12/2023</td>\n",
       "      <td>Buenos Aires</td>\n",
       "      <td>15</td>\n",
       "      <td>12</td>\n",
       "      <td>0.0</td>\n",
       "      <td>17.9</td>\n",
       "      <td>49.2</td>\n",
       "    </tr>\n",
       "    <tr>\n",
       "      <th>1821</th>\n",
       "      <td>31/12/2023</td>\n",
       "      <td>Cordoba</td>\n",
       "      <td>15</td>\n",
       "      <td>7</td>\n",
       "      <td>0.0</td>\n",
       "      <td>17.8</td>\n",
       "      <td>62.4</td>\n",
       "    </tr>\n",
       "    <tr>\n",
       "      <th>1822</th>\n",
       "      <td>31/12/2023</td>\n",
       "      <td>Rosario</td>\n",
       "      <td>14</td>\n",
       "      <td>8</td>\n",
       "      <td>0.0</td>\n",
       "      <td>38.2</td>\n",
       "      <td>31.2</td>\n",
       "    </tr>\n",
       "    <tr>\n",
       "      <th>1823</th>\n",
       "      <td>31/12/2023</td>\n",
       "      <td>Mendoza</td>\n",
       "      <td>13</td>\n",
       "      <td>9</td>\n",
       "      <td>84.8</td>\n",
       "      <td>27.6</td>\n",
       "      <td>35.3</td>\n",
       "    </tr>\n",
       "    <tr>\n",
       "      <th>1824</th>\n",
       "      <td>31/12/2023</td>\n",
       "      <td>Tucuman</td>\n",
       "      <td>15</td>\n",
       "      <td>10</td>\n",
       "      <td>0.0</td>\n",
       "      <td>30.0</td>\n",
       "      <td>49.1</td>\n",
       "    </tr>\n",
       "  </tbody>\n",
       "</table>\n",
       "<p>1825 rows × 7 columns</p>\n",
       "</div>"
      ],
      "text/plain": [
       "           Fecha        Ciudad  Temperatura Maxima  Temperatura Minima  \\\n",
       "0       1/1/2023  Buenos Aires                  27                  18   \n",
       "1       1/1/2023       Cordoba                  35                  18   \n",
       "2       1/1/2023       Rosario                  23                  21   \n",
       "3       1/1/2023       Mendoza                  35                  21   \n",
       "4       1/1/2023       Tucuman                  36                  18   \n",
       "...          ...           ...                 ...                 ...   \n",
       "1820  31/12/2023  Buenos Aires                  15                  12   \n",
       "1821  31/12/2023       Cordoba                  15                   7   \n",
       "1822  31/12/2023       Rosario                  14                   8   \n",
       "1823  31/12/2023       Mendoza                  13                   9   \n",
       "1824  31/12/2023       Tucuman                  15                  10   \n",
       "\n",
       "      Precipitacion  Velocidad del Viento  Humedad Relativa  \n",
       "0               0.0                  22.7              68.8  \n",
       "1               0.0                  33.8              61.7  \n",
       "2               0.0                  10.6              80.0  \n",
       "3               0.0                  23.8              76.8  \n",
       "4              17.2                  25.7              54.9  \n",
       "...             ...                   ...               ...  \n",
       "1820            0.0                  17.9              49.2  \n",
       "1821            0.0                  17.8              62.4  \n",
       "1822            0.0                  38.2              31.2  \n",
       "1823           84.8                  27.6              35.3  \n",
       "1824            0.0                  30.0              49.1  \n",
       "\n",
       "[1825 rows x 7 columns]"
      ]
     },
     "execution_count": 3,
     "metadata": {},
     "output_type": "execute_result"
    }
   ],
   "source": [
    "ruta=\"C:\\\\Users\\\\azy51\\\\Downloads\\\\Datos+Meteorológicos_Arg_2023.csv\"\n",
    "df=pd.read_csv(ruta)\n",
    "df"
   ]
  },
  {
   "cell_type": "code",
   "execution_count": 29,
   "id": "0ffa9961-5f25-4dff-b7e7-3f3b7a8a9c10",
   "metadata": {},
   "outputs": [
    {
     "name": "stdout",
     "output_type": "stream",
     "text": [
      "Date string: 30/12/2023\n"
     ]
    }
   ],
   "source": [
    "from  datetime import datetime\n",
    "date_string=\"30/12/2023\".strip()\n",
    "print(f\"Date string: {date_string}\")"
   ]
  },
  {
   "cell_type": "code",
   "execution_count": 31,
   "id": "e8943473-01e9-4c18-abd0-2de53426070a",
   "metadata": {},
   "outputs": [
    {
     "name": "stdout",
     "output_type": "stream",
     "text": [
      "Format string: %d/%m/%Y\n"
     ]
    }
   ],
   "source": [
    "from  datetime import datetime\n",
    "date_format=\"%d/%m/%Y\"\n",
    "print(f\"Format string: {date_format}\")"
   ]
  },
  {
   "cell_type": "code",
   "execution_count": 33,
   "id": "fb489457-d16c-48a0-af3a-d6d0bf1ad534",
   "metadata": {},
   "outputs": [],
   "source": [
    "from  datetime import datetime\n",
    "date_string=\"30/12/2023\".strip()\n",
    "date=datetime.strptime(date_string,date_format)"
   ]
  },
  {
   "cell_type": "code",
   "execution_count": 35,
   "id": "6f6c3816-ae48-414c-987f-dcebbb7433a4",
   "metadata": {},
   "outputs": [
    {
     "data": {
      "text/plain": [
       "datetime.datetime(2023, 12, 30, 0, 0)"
      ]
     },
     "execution_count": 35,
     "metadata": {},
     "output_type": "execute_result"
    }
   ],
   "source": [
    "date"
   ]
  },
  {
   "cell_type": "code",
   "execution_count": 39,
   "id": "cad4fefc-9be4-4210-8432-5f1ccfb08e85",
   "metadata": {},
   "outputs": [
    {
     "data": {
      "text/html": [
       "<div>\n",
       "<style scoped>\n",
       "    .dataframe tbody tr th:only-of-type {\n",
       "        vertical-align: middle;\n",
       "    }\n",
       "\n",
       "    .dataframe tbody tr th {\n",
       "        vertical-align: top;\n",
       "    }\n",
       "\n",
       "    .dataframe thead th {\n",
       "        text-align: right;\n",
       "    }\n",
       "</style>\n",
       "<table border=\"1\" class=\"dataframe\">\n",
       "  <thead>\n",
       "    <tr style=\"text-align: right;\">\n",
       "      <th></th>\n",
       "      <th>Fecha</th>\n",
       "      <th>Ciudad</th>\n",
       "      <th>Temperatura Maxima</th>\n",
       "      <th>Temperatura Minima</th>\n",
       "      <th>Precipitacion</th>\n",
       "      <th>Velocidad del Viento</th>\n",
       "      <th>Humedad Relativa</th>\n",
       "    </tr>\n",
       "  </thead>\n",
       "  <tbody>\n",
       "    <tr>\n",
       "      <th>0</th>\n",
       "      <td>2023-01-01</td>\n",
       "      <td>Buenos Aires</td>\n",
       "      <td>27</td>\n",
       "      <td>18</td>\n",
       "      <td>0.0</td>\n",
       "      <td>22.7</td>\n",
       "      <td>68.8</td>\n",
       "    </tr>\n",
       "    <tr>\n",
       "      <th>1</th>\n",
       "      <td>2023-01-01</td>\n",
       "      <td>Cordoba</td>\n",
       "      <td>35</td>\n",
       "      <td>18</td>\n",
       "      <td>0.0</td>\n",
       "      <td>33.8</td>\n",
       "      <td>61.7</td>\n",
       "    </tr>\n",
       "    <tr>\n",
       "      <th>2</th>\n",
       "      <td>2023-01-01</td>\n",
       "      <td>Rosario</td>\n",
       "      <td>23</td>\n",
       "      <td>21</td>\n",
       "      <td>0.0</td>\n",
       "      <td>10.6</td>\n",
       "      <td>80.0</td>\n",
       "    </tr>\n",
       "    <tr>\n",
       "      <th>3</th>\n",
       "      <td>2023-01-01</td>\n",
       "      <td>Mendoza</td>\n",
       "      <td>35</td>\n",
       "      <td>21</td>\n",
       "      <td>0.0</td>\n",
       "      <td>23.8</td>\n",
       "      <td>76.8</td>\n",
       "    </tr>\n",
       "    <tr>\n",
       "      <th>4</th>\n",
       "      <td>2023-01-01</td>\n",
       "      <td>Tucuman</td>\n",
       "      <td>36</td>\n",
       "      <td>18</td>\n",
       "      <td>17.2</td>\n",
       "      <td>25.7</td>\n",
       "      <td>54.9</td>\n",
       "    </tr>\n",
       "  </tbody>\n",
       "</table>\n",
       "</div>"
      ],
      "text/plain": [
       "       Fecha        Ciudad  Temperatura Maxima  Temperatura Minima  \\\n",
       "0 2023-01-01  Buenos Aires                  27                  18   \n",
       "1 2023-01-01       Cordoba                  35                  18   \n",
       "2 2023-01-01       Rosario                  23                  21   \n",
       "3 2023-01-01       Mendoza                  35                  21   \n",
       "4 2023-01-01       Tucuman                  36                  18   \n",
       "\n",
       "   Precipitacion  Velocidad del Viento  Humedad Relativa  \n",
       "0            0.0                  22.7              68.8  \n",
       "1            0.0                  33.8              61.7  \n",
       "2            0.0                  10.6              80.0  \n",
       "3            0.0                  23.8              76.8  \n",
       "4           17.2                  25.7              54.9  "
      ]
     },
     "execution_count": 39,
     "metadata": {},
     "output_type": "execute_result"
    }
   ],
   "source": [
    "df[\"Fecha\"]=pd.to_datetime(df[\"Fecha\"],format=\"%d/%m/%Y\")\n",
    "df.head()"
   ]
  },
  {
   "cell_type": "code",
   "execution_count": 41,
   "id": "0299155f-7703-4d17-a3ef-9cb66942add9",
   "metadata": {},
   "outputs": [],
   "source": [
    "lista_ciudades=[]\n",
    "for c in df[\"Ciudad\"]:\n",
    "    if c not in lista_ciudades:\n",
    "        lista_ciudades.append(c)"
   ]
  },
  {
   "cell_type": "code",
   "execution_count": 43,
   "id": "ea405b7d-2790-4125-87ae-177a6945feb4",
   "metadata": {},
   "outputs": [
    {
     "data": {
      "text/plain": [
       "['Buenos Aires', 'Cordoba', 'Rosario', 'Mendoza', 'Tucuman']"
      ]
     },
     "execution_count": 43,
     "metadata": {},
     "output_type": "execute_result"
    }
   ],
   "source": [
    "lista_ciudades"
   ]
  },
  {
   "cell_type": "code",
   "execution_count": 49,
   "id": "3a285e6d-f889-4d1f-8a86-ffd7eefcf43f",
   "metadata": {},
   "outputs": [],
   "source": [
    "dict_meses={1:\"Enero\",\n",
    "            2:\"Febero\",\n",
    "            3:\"Marzo\",\n",
    "            4:\"Abril\",\n",
    "            5:\"Mayo\",\n",
    "            6:\"Junio\",\n",
    "            7:\"Julio\",\n",
    "            8:\"Agosto\",\n",
    "            9:\"Septiembre\",\n",
    "            10:\"Octubre\",\n",
    "            11:\"Noviembre\",\n",
    "            12:\"Diciembre\",}"
   ]
  },
  {
   "cell_type": "code",
   "execution_count": 57,
   "id": "134f3fd6-f967-4c9a-877d-1b8e8faed9f6",
   "metadata": {},
   "outputs": [],
   "source": [
    "def consultar_temperaturas():\n",
    "    while True:\n",
    "        #solicitar la ciudad\n",
    "        print(lista_ciudades)\n",
    "        ciudad_chosen=input(\"Elija la coudad de la lista\")\n",
    "\n",
    "        #solicitar el mes\n",
    "        mes_elegido=int(input(\"Elija un mes\"))\n",
    "\n",
    "        #validar los inputs\n",
    "        if ciudad_chosen not in lista_ciudades or mes_elegido not in range(1,13):\n",
    "            print(\"Ciudad o mes no validos, intentalo nuevamente\")\n",
    "            continue\n",
    "\n",
    "        #Crear el dataframe filtrado\n",
    "            datos_ciudades_mes=df[(df[\"Ciudad\"]==ciudad_chosen) & (df[\"Fecha\"]).dt.month==mes_elegido]\n",
    "\n",
    "        #graficas las temperaturas\n",
    "            plt.figure(figsize=(10,6))\n",
    "            plt.plot(datos_ciudades_mes[\"Fecha\"],datos_ciudades_mes[\"Temperatura Máxima\"],label=\"Máxima\",color=\"red\")\n",
    "            plt.plot(datos_ciudades_mes[\"Fecha\"],datos_ciudades_mes[\"Temperatura Minima\"],label=\"Máxima\",color=\"red\")\n",
    "\n",
    "\n",
    "        #preguntar si se quieres continuar"
   ]
  },
  {
   "cell_type": "code",
   "execution_count": null,
   "id": "7934a48e-23d6-4b62-ae88-9cb7f82a7a57",
   "metadata": {},
   "outputs": [
    {
     "name": "stdout",
     "output_type": "stream",
     "text": [
      "['Buenos Aires', 'Cordoba', 'Rosario', 'Mendoza', 'Tucuman']\n"
     ]
    },
    {
     "name": "stdin",
     "output_type": "stream",
     "text": [
      "Elija la coudad de la lista Rosario\n",
      "Elija un mes 5\n"
     ]
    },
    {
     "name": "stdout",
     "output_type": "stream",
     "text": [
      "['Buenos Aires', 'Cordoba', 'Rosario', 'Mendoza', 'Tucuman']\n"
     ]
    },
    {
     "name": "stdin",
     "output_type": "stream",
     "text": [
      "Elija la coudad de la lista 5\n",
      "Elija un mes 6\n"
     ]
    },
    {
     "name": "stdout",
     "output_type": "stream",
     "text": [
      "Ciudad o mes no validos, intentalo nuevamente\n",
      "['Buenos Aires', 'Cordoba', 'Rosario', 'Mendoza', 'Tucuman']\n"
     ]
    }
   ],
   "source": [
    "consultar_temperaturas()"
   ]
  },
  {
   "cell_type": "code",
   "execution_count": null,
   "id": "c301761b-85b3-4fc1-8d65-9a7606866270",
   "metadata": {},
   "outputs": [],
   "source": []
  }
 ],
 "metadata": {
  "kernelspec": {
   "display_name": "Python 3 (ipykernel)",
   "language": "python",
   "name": "python3"
  },
  "language_info": {
   "codemirror_mode": {
    "name": "ipython",
    "version": 3
   },
   "file_extension": ".py",
   "mimetype": "text/x-python",
   "name": "python",
   "nbconvert_exporter": "python",
   "pygments_lexer": "ipython3",
   "version": "3.12.7"
  }
 },
 "nbformat": 4,
 "nbformat_minor": 5
}
