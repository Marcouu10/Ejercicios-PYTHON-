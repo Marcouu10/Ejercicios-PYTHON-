{
 "cells": [
  {
   "cell_type": "code",
   "execution_count": 9,
   "id": "13e2742b-8973-42cc-98e1-9ff3e7c442d7",
   "metadata": {},
   "outputs": [],
   "source": [
    "def greet_user(name,greeting=\"Hello\"):\n",
    "    return greeting"
   ]
  },
  {
   "cell_type": "code",
   "execution_count": 11,
   "id": "db6cd7bb-b863-42ed-aa16-0fe5969c16df",
   "metadata": {},
   "outputs": [],
   "source": [
    "def greet_user(name,greeting=\"Hello\"):\n",
    "    return f\"{greeting}, {name}!\""
   ]
  },
  {
   "cell_type": "code",
   "execution_count": 13,
   "id": "7daf3db7-ec05-4814-b10f-53482a9fedd4",
   "metadata": {},
   "outputs": [
    {
     "ename": "NameError",
     "evalue": "name 'Alice' is not defined",
     "output_type": "error",
     "traceback": [
      "\u001b[1;31m---------------------------------------------------------------------------\u001b[0m",
      "\u001b[1;31mNameError\u001b[0m                                 Traceback (most recent call last)",
      "Cell \u001b[1;32mIn[13], line 1\u001b[0m\n\u001b[1;32m----> 1\u001b[0m \u001b[38;5;28mprint\u001b[39m(greet_user(Alice))\n",
      "\u001b[1;31mNameError\u001b[0m: name 'Alice' is not defined"
     ]
    }
   ],
   "source": [
    "print(greet_user(Alice))"
   ]
  },
  {
   "cell_type": "code",
   "execution_count": 15,
   "id": "9cc05b03-44d7-418f-82cc-0db37b366cb0",
   "metadata": {},
   "outputs": [
    {
     "ename": "NameError",
     "evalue": "name 'grret_user' is not defined",
     "output_type": "error",
     "traceback": [
      "\u001b[1;31m---------------------------------------------------------------------------\u001b[0m",
      "\u001b[1;31mNameError\u001b[0m                                 Traceback (most recent call last)",
      "Cell \u001b[1;32mIn[15], line 1\u001b[0m\n\u001b[1;32m----> 1\u001b[0m \u001b[38;5;28mprint\u001b[39m(grret_user(\u001b[38;5;124m\"\u001b[39m\u001b[38;5;124mAlice\u001b[39m\u001b[38;5;124m\"\u001b[39m))\n",
      "\u001b[1;31mNameError\u001b[0m: name 'grret_user' is not defined"
     ]
    }
   ],
   "source": [
    "print(grret_user(\"Alice\"))"
   ]
  },
  {
   "cell_type": "code",
   "execution_count": 17,
   "id": "5879e183-870e-403b-9c4f-7b0bc302bfa6",
   "metadata": {},
   "outputs": [
    {
     "name": "stdout",
     "output_type": "stream",
     "text": [
      "Hello, Alice!\n"
     ]
    }
   ],
   "source": [
    "print(greet_user(\"Alice\"))"
   ]
  },
  {
   "cell_type": "code",
   "execution_count": 19,
   "id": "d2967ec2-2426-44ad-b233-574f1fa934d8",
   "metadata": {},
   "outputs": [],
   "source": [
    "def check_age(age):\n",
    "    if age>18:\n",
    "        return adult\n",
    "    else:\n",
    "        return Minor"
   ]
  },
  {
   "cell_type": "code",
   "execution_count": 21,
   "id": "24a3681a-a6a4-4220-b6c9-16731415df0b",
   "metadata": {},
   "outputs": [
    {
     "ename": "NameError",
     "evalue": "name 'adult' is not defined",
     "output_type": "error",
     "traceback": [
      "\u001b[1;31m---------------------------------------------------------------------------\u001b[0m",
      "\u001b[1;31mNameError\u001b[0m                                 Traceback (most recent call last)",
      "Cell \u001b[1;32mIn[21], line 1\u001b[0m\n\u001b[1;32m----> 1\u001b[0m \u001b[38;5;28mprint\u001b[39m(check_age(\u001b[38;5;241m19\u001b[39m))\n",
      "Cell \u001b[1;32mIn[19], line 3\u001b[0m, in \u001b[0;36mcheck_age\u001b[1;34m(age)\u001b[0m\n\u001b[0;32m      1\u001b[0m \u001b[38;5;28;01mdef\u001b[39;00m \u001b[38;5;21mcheck_age\u001b[39m(age):\n\u001b[0;32m      2\u001b[0m     \u001b[38;5;28;01mif\u001b[39;00m age\u001b[38;5;241m>\u001b[39m\u001b[38;5;241m18\u001b[39m:\n\u001b[1;32m----> 3\u001b[0m         \u001b[38;5;28;01mreturn\u001b[39;00m adult\n\u001b[0;32m      4\u001b[0m     \u001b[38;5;28;01melse\u001b[39;00m:\n\u001b[0;32m      5\u001b[0m         \u001b[38;5;28;01mreturn\u001b[39;00m Minor\n",
      "\u001b[1;31mNameError\u001b[0m: name 'adult' is not defined"
     ]
    }
   ],
   "source": [
    "print(check_age(19))"
   ]
  },
  {
   "cell_type": "code",
   "execution_count": 23,
   "id": "f5f0472f-0623-4905-9e15-85a89da54e87",
   "metadata": {},
   "outputs": [],
   "source": [
    "def check_age(age):\n",
    "    if age>18:\n",
    "        return \"adult\"\n",
    "    else:\n",
    "        return \"Minor\""
   ]
  },
  {
   "cell_type": "code",
   "execution_count": 25,
   "id": "a4909fd7-0356-4910-880b-7c87edbc285c",
   "metadata": {},
   "outputs": [
    {
     "name": "stdout",
     "output_type": "stream",
     "text": [
      "adult\n"
     ]
    }
   ],
   "source": [
    "print(check_age(19))"
   ]
  },
  {
   "cell_type": "code",
   "execution_count": 27,
   "id": "77476870-9708-4397-ae3f-fd7be28b63f9",
   "metadata": {},
   "outputs": [
    {
     "name": "stdout",
     "output_type": "stream",
     "text": [
      "Minor\n"
     ]
    }
   ],
   "source": [
    "print(check_age(18))"
   ]
  },
  {
   "cell_type": "code",
   "execution_count": 29,
   "id": "9cea1a17-b125-4a48-92eb-38b215fc3d8f",
   "metadata": {},
   "outputs": [],
   "source": [
    "def describe_pet(name, type=\"dog\"):\n",
    "    return f\"the {type}, name is {name} !\""
   ]
  },
  {
   "cell_type": "code",
   "execution_count": 31,
   "id": "24027b61-b0c4-415d-ad62-864000ad1c22",
   "metadata": {},
   "outputs": [
    {
     "ename": "NameError",
     "evalue": "name 'Scooby' is not defined",
     "output_type": "error",
     "traceback": [
      "\u001b[1;31m---------------------------------------------------------------------------\u001b[0m",
      "\u001b[1;31mNameError\u001b[0m                                 Traceback (most recent call last)",
      "Cell \u001b[1;32mIn[31], line 1\u001b[0m\n\u001b[1;32m----> 1\u001b[0m \u001b[38;5;28mprint\u001b[39m(describe_pet(Scooby))\n",
      "\u001b[1;31mNameError\u001b[0m: name 'Scooby' is not defined"
     ]
    }
   ],
   "source": [
    "print(describe_pet(Scooby))"
   ]
  },
  {
   "cell_type": "code",
   "execution_count": 33,
   "id": "3d3d69a0-7a58-4689-b848-fd2a4f5c86e9",
   "metadata": {},
   "outputs": [
    {
     "name": "stdout",
     "output_type": "stream",
     "text": [
      "the dog, name is Scooby !\n"
     ]
    }
   ],
   "source": [
    "print(describe_pet(\"Scooby\"))"
   ]
  },
  {
   "cell_type": "code",
   "execution_count": 35,
   "id": "cb6998fe-b56f-4920-be66-3f5d6b04234c",
   "metadata": {},
   "outputs": [],
   "source": [
    "def list_fruits(fruits):\n",
    "    return f\"I like {fruits}\""
   ]
  },
  {
   "cell_type": "code",
   "execution_count": 37,
   "id": "6faa9b93-25b8-4c39-9ef3-d9f880594abe",
   "metadata": {},
   "outputs": [
    {
     "ename": "NameError",
     "evalue": "name 'apple' is not defined",
     "output_type": "error",
     "traceback": [
      "\u001b[1;31m---------------------------------------------------------------------------\u001b[0m",
      "\u001b[1;31mNameError\u001b[0m                                 Traceback (most recent call last)",
      "Cell \u001b[1;32mIn[37], line 1\u001b[0m\n\u001b[1;32m----> 1\u001b[0m \u001b[38;5;28mprint\u001b[39m(list_fruits(apple,bananas, manza))\n",
      "\u001b[1;31mNameError\u001b[0m: name 'apple' is not defined"
     ]
    }
   ],
   "source": [
    "print(list_fruits(apple,bananas, manza))"
   ]
  },
  {
   "cell_type": "code",
   "execution_count": 39,
   "id": "de0cf87e-6849-4aa7-a753-ca41bc3232c2",
   "metadata": {},
   "outputs": [
    {
     "name": "stdout",
     "output_type": "stream",
     "text": [
      "I like apple,bananas and manza\n"
     ]
    }
   ],
   "source": [
    "print(list_fruits(\"apple,bananas and manza\"))"
   ]
  },
  {
   "cell_type": "code",
   "execution_count": 41,
   "id": "c50b345f-5c39-46cf-b501-4afbe005a250",
   "metadata": {},
   "outputs": [],
   "source": [
    "def add_numbers(a,b):\n",
    "    sum = a + B\n",
    "    return sum\n"
   ]
  },
  {
   "cell_type": "code",
   "execution_count": 43,
   "id": "cf6089ca-9bb5-4826-a40f-0c316c81f706",
   "metadata": {},
   "outputs": [
    {
     "name": "stdout",
     "output_type": "stream",
     "text": [
      "5 7\n"
     ]
    }
   ],
   "source": [
    "print(5,7)"
   ]
  },
  {
   "cell_type": "code",
   "execution_count": 45,
   "id": "5d5a700a-a6fb-4a6f-b98e-8f3e9fa4cdfa",
   "metadata": {},
   "outputs": [
    {
     "ename": "NameError",
     "evalue": "name 'B' is not defined",
     "output_type": "error",
     "traceback": [
      "\u001b[1;31m---------------------------------------------------------------------------\u001b[0m",
      "\u001b[1;31mNameError\u001b[0m                                 Traceback (most recent call last)",
      "Cell \u001b[1;32mIn[45], line 1\u001b[0m\n\u001b[1;32m----> 1\u001b[0m \u001b[38;5;28mprint\u001b[39m(add_numbers(\u001b[38;5;241m5\u001b[39m,\u001b[38;5;241m8\u001b[39m))\n",
      "Cell \u001b[1;32mIn[41], line 2\u001b[0m, in \u001b[0;36madd_numbers\u001b[1;34m(a, b)\u001b[0m\n\u001b[0;32m      1\u001b[0m \u001b[38;5;28;01mdef\u001b[39;00m \u001b[38;5;21madd_numbers\u001b[39m(a,b):\n\u001b[1;32m----> 2\u001b[0m     \u001b[38;5;28msum\u001b[39m \u001b[38;5;241m=\u001b[39m a \u001b[38;5;241m+\u001b[39m B\n\u001b[0;32m      3\u001b[0m     \u001b[38;5;28;01mreturn\u001b[39;00m \u001b[38;5;28msum\u001b[39m\n",
      "\u001b[1;31mNameError\u001b[0m: name 'B' is not defined"
     ]
    }
   ],
   "source": [
    "print(add_numbers(5,8))"
   ]
  },
  {
   "cell_type": "code",
   "execution_count": 47,
   "id": "93a9f96d-22b5-4896-8904-2d0dcb5ac491",
   "metadata": {},
   "outputs": [],
   "source": [
    "def add_numbers(a,b):\n",
    "    sum = a + b\n",
    "    return sum"
   ]
  },
  {
   "cell_type": "code",
   "execution_count": 49,
   "id": "7f23f759-f17e-41d1-9b7a-76bc3c47b64f",
   "metadata": {},
   "outputs": [
    {
     "name": "stdout",
     "output_type": "stream",
     "text": [
      "13\n"
     ]
    }
   ],
   "source": [
    "print(add_numbers(5,8))"
   ]
  },
  {
   "cell_type": "code",
   "execution_count": 52,
   "id": "dfbd56ea-681c-4317-989c-01901b3d41be",
   "metadata": {},
   "outputs": [
    {
     "ename": "IndentationError",
     "evalue": "unindent does not match any outer indentation level (<string>, line 4)",
     "output_type": "error",
     "traceback": [
      "\u001b[1;36m  File \u001b[1;32m<string>:4\u001b[1;36m\u001b[0m\n\u001b[1;33m    if cheeses is None:\u001b[0m\n\u001b[1;37m                       ^\u001b[0m\n\u001b[1;31mIndentationError\u001b[0m\u001b[1;31m:\u001b[0m unindent does not match any outer indentation level\n"
     ]
    }
   ],
   "source": [
    "def make_sandwich(bread_type,fillings,chesses=None,toasted=False):\n",
    "      if isinstance(fillings, str):\n",
    "        fillings = [fillings]\n",
    "    if cheeses is None:\n",
    "        cheeses = []\n",
    "    elif isinstance(cheeses, str):\n",
    "        cheeses = [cheeses]\n",
    "    \n",
    "    sandwich = \"Making a \"\n",
    "    if toasted:\n",
    "        sandwich += \"toasted \"\n",
    "    \n",
    "    sandwich += f\"{bread_type} sandwich with {', '.join(fillings)}\"\n",
    "    \n",
    "    if cheeses:\n",
    "        sandwich += f\" and {', '.join(cheeses)} cheese\"\n",
    "    \n",
    "    sandwich += \".\"\n",
    "    return sandwich\n",
    "\n",
    "# Prueba\n",
    "print(make_sandwich(\"wheat\", [\"turkey\"], \"cheddar\", True))\n",
    "print(make_sandwich(\"rye\", [\"ham\"]))\n",
    "print(make_sandwich(\"white\", [\"ham\", \"turkey\"], [\"cheddar\", \"swiss\"], True)"
   ]
  },
  {
   "cell_type": "code",
   "execution_count": 55,
   "id": "b8ac8c7d-0508-4e33-9f0e-f0c9b9b785ce",
   "metadata": {},
   "outputs": [
    {
     "ename": "IndentationError",
     "evalue": "unindent does not match any outer indentation level (<string>, line 4)",
     "output_type": "error",
     "traceback": [
      "\u001b[1;36m  File \u001b[1;32m<string>:4\u001b[1;36m\u001b[0m\n\u001b[1;33m    if cheeses is None:\u001b[0m\n\u001b[1;37m                       ^\u001b[0m\n\u001b[1;31mIndentationError\u001b[0m\u001b[1;31m:\u001b[0m unindent does not match any outer indentation level\n"
     ]
    }
   ],
   "source": [
    "def make_sandwich(bread_type,fillings,cheeses=None,toasted=False):\n",
    "      if isinstance(fillings, str):\n",
    "        fillings = [fillings]\n",
    "    if cheeses is None:\n",
    "        cheeses = []\n",
    "    elif isinstance(cheeses, str):\n",
    "        cheeses = [cheeses]\n",
    "    \n",
    "    sandwich = \"Making a \"\n",
    "    if toasted:\n",
    "        sandwich += \"toasted \"\n",
    "    \n",
    "    sandwich += f\"{bread_type} sandwich with {', '.join(fillings)}\"\n",
    "    \n",
    "    if cheeses:\n",
    "        sandwich += f\" and {', '.join(cheeses)} cheese\"\n",
    "    \n",
    "    sandwich += \".\"\n",
    "    return sandwich\n",
    "\n",
    "# Prueba\n",
    "print(make_sandwich(\"wheat\", [\"turkey\"], \"cheddar\", True))\n",
    "print(make_sandwich(\"rye\", [\"ham\"]))\n",
    "print(make_sandwich(\"white\", [\"ham\", \"turkey\"], [\"cheddar\", \"swiss\"], True)"
   ]
  },
  {
   "cell_type": "code",
   "execution_count": null,
   "id": "f6f9aa4b-1a80-405e-aeb2-db053e2dd3ce",
   "metadata": {},
   "outputs": [],
   "source": []
  }
 ],
 "metadata": {
  "kernelspec": {
   "display_name": "Python 3 (ipykernel)",
   "language": "python",
   "name": "python3"
  },
  "language_info": {
   "codemirror_mode": {
    "name": "ipython",
    "version": 3
   },
   "file_extension": ".py",
   "mimetype": "text/x-python",
   "name": "python",
   "nbconvert_exporter": "python",
   "pygments_lexer": "ipython3",
   "version": "3.12.7"
  }
 },
 "nbformat": 4,
 "nbformat_minor": 5
}
