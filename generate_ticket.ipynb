{
 "cells": [
  {
   "cell_type": "code",
   "execution_count": 196,
   "id": "4a54f434-c7eb-4a2c-bbfa-6c0548c89129",
   "metadata": {},
   "outputs": [],
   "source": [
    "def generate_ticket(name,total_price,down_payment,months,retarment_interest):\n",
    "    balance= total_price - down_payment\n",
    "    monthly_payment=balance/months\n",
    "    remaining_balance=balance\n",
    "    \n",
    "\n",
    "    for i in range(1,months+1 ):\n",
    "        print(f\"Mes{i} : Pago restante= ${remaining_balance}\")\n",
    "        remaining_balance=remaining_balance- monthly_payment\n",
    "    \n",
    "    print(\"========================\")\n",
    "    print(f\"Nombre del cliente: {name}\")\n",
    "    print(\"========================\")\n",
    "    print(f\"Precio total: {total_price}\")\n",
    "    print(\"========================\")\n",
    "    print(f\"Enganche: {down_payment}\")\n",
    "    print(\"========================\")\n",
    "    print(f\"Saldo: {balance}\")\n",
    "    print(\"========================\")\n",
    "    print(f\"Pago mensual: {monthly_payment}\")\n",
    "\n",
    "    "
   ]
  },
  {
   "cell_type": "code",
   "execution_count": 198,
   "id": "6e8e0cef-7d29-4c20-b0a6-47f974798844",
   "metadata": {},
   "outputs": [
    {
     "name": "stdout",
     "output_type": "stream",
     "text": [
      "Mes1 : Pago restante= $135000\n",
      "Mes2 : Pago restante= $123750.0\n",
      "Mes3 : Pago restante= $112500.0\n",
      "Mes4 : Pago restante= $101250.0\n",
      "Mes5 : Pago restante= $90000.0\n",
      "Mes6 : Pago restante= $78750.0\n",
      "Mes7 : Pago restante= $67500.0\n",
      "Mes8 : Pago restante= $56250.0\n",
      "Mes9 : Pago restante= $45000.0\n",
      "Mes10 : Pago restante= $33750.0\n",
      "Mes11 : Pago restante= $22500.0\n",
      "Mes12 : Pago restante= $11250.0\n",
      "========================\n",
      "Nombre del cliente: Marco\n",
      "========================\n",
      "Precio total: 150000\n",
      "========================\n",
      "Enganche: 15000\n",
      "========================\n",
      "Saldo: 135000\n",
      "========================\n",
      "Pago mensual: 11250.0\n"
     ]
    }
   ],
   "source": [
    "cliente1=generate_ticket(\"Marco\", 150000, 15000, 12,1)"
   ]
  },
  {
   "cell_type": "code",
   "execution_count": 202,
   "id": "0b5d79a5-994f-41dc-b33f-36fba5fc3bdf",
   "metadata": {},
   "outputs": [
    {
     "name": "stdout",
     "output_type": "stream",
     "text": [
      "Mes1 : Pago restante= $340000\n",
      "Mes2 : Pago restante= $330555.55555555556\n",
      "Mes3 : Pago restante= $321111.1111111111\n",
      "Mes4 : Pago restante= $311666.6666666667\n",
      "Mes5 : Pago restante= $302222.22222222225\n",
      "Mes6 : Pago restante= $292777.7777777778\n",
      "Mes7 : Pago restante= $283333.3333333334\n",
      "Mes8 : Pago restante= $273888.88888888893\n",
      "Mes9 : Pago restante= $264444.4444444445\n",
      "Mes10 : Pago restante= $255000.00000000006\n",
      "Mes11 : Pago restante= $245555.55555555562\n",
      "Mes12 : Pago restante= $236111.11111111118\n",
      "Mes13 : Pago restante= $226666.66666666674\n",
      "Mes14 : Pago restante= $217222.2222222223\n",
      "Mes15 : Pago restante= $207777.77777777787\n",
      "Mes16 : Pago restante= $198333.33333333343\n",
      "Mes17 : Pago restante= $188888.888888889\n",
      "Mes18 : Pago restante= $179444.44444444455\n",
      "Mes19 : Pago restante= $170000.00000000012\n",
      "Mes20 : Pago restante= $160555.55555555568\n",
      "Mes21 : Pago restante= $151111.11111111124\n",
      "Mes22 : Pago restante= $141666.6666666668\n",
      "Mes23 : Pago restante= $132222.22222222236\n",
      "Mes24 : Pago restante= $122777.77777777793\n",
      "Mes25 : Pago restante= $113333.33333333349\n",
      "Mes26 : Pago restante= $103888.88888888905\n",
      "Mes27 : Pago restante= $94444.44444444461\n",
      "Mes28 : Pago restante= $85000.00000000017\n",
      "Mes29 : Pago restante= $75555.55555555574\n",
      "Mes30 : Pago restante= $66111.1111111113\n",
      "Mes31 : Pago restante= $56666.66666666685\n",
      "Mes32 : Pago restante= $47222.22222222241\n",
      "Mes33 : Pago restante= $37777.77777777796\n",
      "Mes34 : Pago restante= $28333.333333333518\n",
      "Mes35 : Pago restante= $18888.888888889072\n",
      "Mes36 : Pago restante= $9444.444444444627\n",
      "========================\n",
      "Nombre del cliente: Santiago\n",
      "========================\n",
      "Precio total: 350000\n",
      "========================\n",
      "Enganche: 10000\n",
      "========================\n",
      "Saldo: 340000\n",
      "========================\n",
      "Pago mensual: 9444.444444444445\n"
     ]
    }
   ],
   "source": [
    "cliente2=generate_ticket(\"Santiago\",350000,10000,36,1)"
   ]
  },
  {
   "cell_type": "code",
   "execution_count": null,
   "id": "4ac66d6b-fb55-44c9-8a0e-d96b3b512e01",
   "metadata": {},
   "outputs": [],
   "source": []
  }
 ],
 "metadata": {
  "kernelspec": {
   "display_name": "Python 3 (ipykernel)",
   "language": "python",
   "name": "python3"
  },
  "language_info": {
   "codemirror_mode": {
    "name": "ipython",
    "version": 3
   },
   "file_extension": ".py",
   "mimetype": "text/x-python",
   "name": "python",
   "nbconvert_exporter": "python",
   "pygments_lexer": "ipython3",
   "version": "3.12.7"
  }
 },
 "nbformat": 4,
 "nbformat_minor": 5
}
