{
 "cells": [
  {
   "cell_type": "code",
   "execution_count": 1,
   "id": "99337c43-715b-4323-9505-5609962ff3b8",
   "metadata": {},
   "outputs": [],
   "source": [
    "class TemperatureData:\n",
    "    def __init__(self,name,readings):\n",
    "        self.name=name\n",
    "        self.readings=readings\n",
    "\n",
    "    def calculate_average_temperature(self):\n",
    "        return sum(self.readings)/len(self.readings)\n",
    "    def find_high_temp(self):\n",
    "        return max(self.readings)\n",
    "    def find_low_temp(self):\n",
    "        return min(self.readings)\n",
    "    def calc_range(self):\n",
    "        return abs(self.find_high_temp()-self.find_low_temp())"
   ]
  },
  {
   "cell_type": "code",
   "execution_count": 3,
   "id": "d0e490d9-dd30-407f-a9c6-197f9243b3a4",
   "metadata": {},
   "outputs": [
    {
     "name": "stdout",
     "output_type": "stream",
     "text": [
      "<bound method TemperatureData.calculate_average_temperature of <__main__.TemperatureData object at 0x00000250C2647440>>\n"
     ]
    }
   ],
   "source": [
    "sensor1=TemperatureData(\"Nayeli \",[78,80,90,42,70.100])\n",
    "print(sensor1.calculate_average_temperature)"
   ]
  },
  {
   "cell_type": "code",
   "execution_count": 5,
   "id": "f6504f81-f4c2-4b19-8e36-69ac424b0585",
   "metadata": {},
   "outputs": [
    {
     "name": "stdout",
     "output_type": "stream",
     "text": [
      "72.02000000000001\n"
     ]
    }
   ],
   "source": [
    "print(sensor1.calculate_average_temperature())"
   ]
  },
  {
   "cell_type": "code",
   "execution_count": 7,
   "id": "dcc5d55d-138c-4c83-b4f2-9bd5f4631f62",
   "metadata": {},
   "outputs": [
    {
     "name": "stdout",
     "output_type": "stream",
     "text": [
      "72.0\n"
     ]
    }
   ],
   "source": [
    "print(round(sensor1.calculate_average_temperature(),1))"
   ]
  },
  {
   "cell_type": "code",
   "execution_count": 9,
   "id": "b8da89a1-bacf-493a-bbda-da6a4321a051",
   "metadata": {},
   "outputs": [],
   "source": [
    "import math"
   ]
  },
  {
   "cell_type": "code",
   "execution_count": 11,
   "id": "3a541bc7-aeae-4961-ae19-27ce5391c122",
   "metadata": {},
   "outputs": [],
   "source": [
    "from random import randint\n"
   ]
  },
  {
   "cell_type": "code",
   "execution_count": 13,
   "id": "55c353a6-f4e6-48c5-b951-aaea9126512f",
   "metadata": {},
   "outputs": [
    {
     "ename": "NameError",
     "evalue": "name 'randit' is not defined",
     "output_type": "error",
     "traceback": [
      "\u001b[1;31m---------------------------------------------------------------------------\u001b[0m",
      "\u001b[1;31mNameError\u001b[0m                                 Traceback (most recent call last)",
      "Cell \u001b[1;32mIn[13], line 1\u001b[0m\n\u001b[1;32m----> 1\u001b[0m randit(\u001b[38;5;241m1\u001b[39m,\u001b[38;5;241m10\u001b[39m)\n",
      "\u001b[1;31mNameError\u001b[0m: name 'randit' is not defined"
     ]
    }
   ],
   "source": [
    "randit(1,10)"
   ]
  },
  {
   "cell_type": "code",
   "execution_count": 15,
   "id": "b1b58757-f356-4338-9fb2-13cd33dba52f",
   "metadata": {},
   "outputs": [
    {
     "data": {
      "text/plain": [
       "10"
      ]
     },
     "execution_count": 15,
     "metadata": {},
     "output_type": "execute_result"
    }
   ],
   "source": [
    "randint(1,10)"
   ]
  },
  {
   "cell_type": "code",
   "execution_count": 17,
   "id": "1efdaedd-4f1d-4afc-91ef-c1a01d670541",
   "metadata": {},
   "outputs": [
    {
     "data": {
      "text/plain": [
       "19"
      ]
     },
     "execution_count": 17,
     "metadata": {},
     "output_type": "execute_result"
    }
   ],
   "source": [
    "randint(1,100\n",
    "       )"
   ]
  },
  {
   "cell_type": "code",
   "execution_count": 19,
   "id": "ea0d9f45-a9f7-4401-8dec-9977208c8175",
   "metadata": {},
   "outputs": [
    {
     "name": "stdout",
     "output_type": "stream",
     "text": [
      "[{'titulo': 'Tarea 2', 'vencimiento': '2025-09-20'}, {'titulo': 'Tarea 1', 'vencimiento': '2025-09-25'}]\n"
     ]
    }
   ],
   "source": [
    "tareas = [\n",
    "    {\"titulo\": \"Tarea 1\", \"vencimiento\": \"2025-09-25\"},\n",
    "    {\"titulo\": \"Tarea 2\", \"vencimiento\": \"2025-09-20\"},\n",
    "]\n",
    "\n",
    "# Ordenar por fecha de vencimiento\n",
    "tareas.sort(key=lambda x: x[\"vencimiento\"])\n",
    "\n",
    "print(tareas)"
   ]
  },
  {
   "cell_type": "code",
   "execution_count": 21,
   "id": "a7b8aeef-e8d8-468c-b9a9-d3a45b244914",
   "metadata": {},
   "outputs": [],
   "source": [
    "a=[0,9,8,7,6,5,4,3,2,1,0]"
   ]
  },
  {
   "cell_type": "code",
   "execution_count": 23,
   "id": "a83bbef8-e7f6-461d-88ea-46ac81a99a18",
   "metadata": {},
   "outputs": [
    {
     "name": "stdout",
     "output_type": "stream",
     "text": [
      "0\n"
     ]
    }
   ],
   "source": [
    "print(a[-1]\n",
    "     )"
   ]
  },
  {
   "cell_type": "code",
   "execution_count": 25,
   "id": "78af8865-c30d-4907-a527-356a1b37d4a5",
   "metadata": {},
   "outputs": [
    {
     "data": {
      "text/plain": [
       "True"
      ]
     },
     "execution_count": 25,
     "metadata": {},
     "output_type": "execute_result"
    }
   ],
   "source": [
    "set([1,2,1])==set([1,2])"
   ]
  },
  {
   "cell_type": "code",
   "execution_count": 27,
   "id": "57b4b1aa-7926-4bab-b80a-bc5ecb05bb6f",
   "metadata": {},
   "outputs": [
    {
     "name": "stdout",
     "output_type": "stream",
     "text": [
      "hello worldhello world\n"
     ]
    }
   ],
   "source": [
    "print(\"hello world\"*2)"
   ]
  },
  {
   "cell_type": "code",
   "execution_count": 29,
   "id": "74cb89af-df5d-4a6e-b473-9cd85506ab2b",
   "metadata": {},
   "outputs": [
    {
     "name": "stdout",
     "output_type": "stream",
     "text": [
      "hello worldhello world\n"
     ]
    }
   ],
   "source": [
    "print(\"hello world\" * 2)"
   ]
  },
  {
   "cell_type": "code",
   "execution_count": 31,
   "id": "8207efa8-9f94-418e-ba8a-161a31c9d908",
   "metadata": {},
   "outputs": [
    {
     "name": "stdout",
     "output_type": "stream",
     "text": [
      "1\n"
     ]
    }
   ],
   "source": [
    "class test():\n",
    "    id=0\n",
    "    def __init__(self,id):\n",
    "        self.id=id\n",
    "        id=2\n",
    "t=test(1)\n",
    "print(t.id)"
   ]
  },
  {
   "cell_type": "code",
   "execution_count": 33,
   "id": "bc36e1d1-4c81-4b61-bdc2-379613bf7eb7",
   "metadata": {},
   "outputs": [],
   "source": [
    "def a(b,c,d): pass\n",
    "    "
   ]
  },
  {
   "cell_type": "code",
   "execution_count": 35,
   "id": "315be5db-71ff-4c7c-88a6-5ba6d141bb1e",
   "metadata": {},
   "outputs": [],
   "source": [
    "a=7"
   ]
  },
  {
   "cell_type": "code",
   "execution_count": 37,
   "id": "a9cbb3a6-739c-44df-9507-9aa441ccf9f0",
   "metadata": {},
   "outputs": [
    {
     "ename": "AttributeError",
     "evalue": "'int' object has no attribute '__str_'",
     "output_type": "error",
     "traceback": [
      "\u001b[1;31m---------------------------------------------------------------------------\u001b[0m",
      "\u001b[1;31mAttributeError\u001b[0m                            Traceback (most recent call last)",
      "Cell \u001b[1;32mIn[37], line 1\u001b[0m\n\u001b[1;32m----> 1\u001b[0m a\u001b[38;5;241m.\u001b[39m__str_()\n",
      "\u001b[1;31mAttributeError\u001b[0m: 'int' object has no attribute '__str_'"
     ]
    }
   ],
   "source": [
    "a.__str_()"
   ]
  },
  {
   "cell_type": "code",
   "execution_count": 39,
   "id": "a9519392-d935-4141-9a01-a2f487e488a7",
   "metadata": {},
   "outputs": [
    {
     "ename": "error",
     "evalue": "missing ), unterminated subpattern at position 0",
     "output_type": "error",
     "traceback": [
      "\u001b[1;31m---------------------------------------------------------------------------\u001b[0m",
      "\u001b[1;31merror\u001b[0m                                     Traceback (most recent call last)",
      "Cell \u001b[1;32mIn[39], line 2\u001b[0m\n\u001b[0;32m      1\u001b[0m \u001b[38;5;28;01mimport\u001b[39;00m \u001b[38;5;21;01mre\u001b[39;00m\n\u001b[1;32m----> 2\u001b[0m m\u001b[38;5;241m=\u001b[39mre\u001b[38;5;241m.\u001b[39msearch(\u001b[38;5;124mr\u001b[39m\u001b[38;5;124m\"\u001b[39m\u001b[38;5;124m(ab[cd]?\u001b[39m\u001b[38;5;124m\"\u001b[39m,\u001b[38;5;124m'\u001b[39m\u001b[38;5;124macdeabdabcde\u001b[39m\u001b[38;5;124m'\u001b[39m)\n\u001b[0;32m      3\u001b[0m m\u001b[38;5;241m.\u001b[39mgroups()\n",
      "File \u001b[1;32m~\\OneDrive\\Documentos\\PHYTON\\Lib\\re\\__init__.py:177\u001b[0m, in \u001b[0;36msearch\u001b[1;34m(pattern, string, flags)\u001b[0m\n\u001b[0;32m    174\u001b[0m \u001b[38;5;28;01mdef\u001b[39;00m \u001b[38;5;21msearch\u001b[39m(pattern, string, flags\u001b[38;5;241m=\u001b[39m\u001b[38;5;241m0\u001b[39m):\n\u001b[0;32m    175\u001b[0m \u001b[38;5;250m    \u001b[39m\u001b[38;5;124;03m\"\"\"Scan through string looking for a match to the pattern, returning\u001b[39;00m\n\u001b[0;32m    176\u001b[0m \u001b[38;5;124;03m    a Match object, or None if no match was found.\"\"\"\u001b[39;00m\n\u001b[1;32m--> 177\u001b[0m     \u001b[38;5;28;01mreturn\u001b[39;00m _compile(pattern, flags)\u001b[38;5;241m.\u001b[39msearch(string)\n",
      "File \u001b[1;32m~\\OneDrive\\Documentos\\PHYTON\\Lib\\re\\__init__.py:307\u001b[0m, in \u001b[0;36m_compile\u001b[1;34m(pattern, flags)\u001b[0m\n\u001b[0;32m    301\u001b[0m     \u001b[38;5;28;01mimport\u001b[39;00m \u001b[38;5;21;01mwarnings\u001b[39;00m\n\u001b[0;32m    302\u001b[0m     warnings\u001b[38;5;241m.\u001b[39mwarn(\u001b[38;5;124m\"\u001b[39m\u001b[38;5;124mThe re.TEMPLATE/re.T flag is deprecated \u001b[39m\u001b[38;5;124m\"\u001b[39m\n\u001b[0;32m    303\u001b[0m             \u001b[38;5;124m\"\u001b[39m\u001b[38;5;124mas it is an undocumented flag \u001b[39m\u001b[38;5;124m\"\u001b[39m\n\u001b[0;32m    304\u001b[0m             \u001b[38;5;124m\"\u001b[39m\u001b[38;5;124mwithout an obvious purpose. \u001b[39m\u001b[38;5;124m\"\u001b[39m\n\u001b[0;32m    305\u001b[0m             \u001b[38;5;124m\"\u001b[39m\u001b[38;5;124mDon\u001b[39m\u001b[38;5;124m'\u001b[39m\u001b[38;5;124mt use it.\u001b[39m\u001b[38;5;124m\"\u001b[39m,\n\u001b[0;32m    306\u001b[0m             \u001b[38;5;167;01mDeprecationWarning\u001b[39;00m)\n\u001b[1;32m--> 307\u001b[0m p \u001b[38;5;241m=\u001b[39m _compiler\u001b[38;5;241m.\u001b[39mcompile(pattern, flags)\n\u001b[0;32m    308\u001b[0m \u001b[38;5;28;01mif\u001b[39;00m flags \u001b[38;5;241m&\u001b[39m DEBUG:\n\u001b[0;32m    309\u001b[0m     \u001b[38;5;28;01mreturn\u001b[39;00m p\n",
      "File \u001b[1;32m~\\OneDrive\\Documentos\\PHYTON\\Lib\\re\\_compiler.py:745\u001b[0m, in \u001b[0;36mcompile\u001b[1;34m(p, flags)\u001b[0m\n\u001b[0;32m    743\u001b[0m \u001b[38;5;28;01mif\u001b[39;00m isstring(p):\n\u001b[0;32m    744\u001b[0m     pattern \u001b[38;5;241m=\u001b[39m p\n\u001b[1;32m--> 745\u001b[0m     p \u001b[38;5;241m=\u001b[39m _parser\u001b[38;5;241m.\u001b[39mparse(p, flags)\n\u001b[0;32m    746\u001b[0m \u001b[38;5;28;01melse\u001b[39;00m:\n\u001b[0;32m    747\u001b[0m     pattern \u001b[38;5;241m=\u001b[39m \u001b[38;5;28;01mNone\u001b[39;00m\n",
      "File \u001b[1;32m~\\OneDrive\\Documentos\\PHYTON\\Lib\\re\\_parser.py:979\u001b[0m, in \u001b[0;36mparse\u001b[1;34m(str, flags, state)\u001b[0m\n\u001b[0;32m    976\u001b[0m state\u001b[38;5;241m.\u001b[39mflags \u001b[38;5;241m=\u001b[39m flags\n\u001b[0;32m    977\u001b[0m state\u001b[38;5;241m.\u001b[39mstr \u001b[38;5;241m=\u001b[39m \u001b[38;5;28mstr\u001b[39m\n\u001b[1;32m--> 979\u001b[0m p \u001b[38;5;241m=\u001b[39m _parse_sub(source, state, flags \u001b[38;5;241m&\u001b[39m SRE_FLAG_VERBOSE, \u001b[38;5;241m0\u001b[39m)\n\u001b[0;32m    980\u001b[0m p\u001b[38;5;241m.\u001b[39mstate\u001b[38;5;241m.\u001b[39mflags \u001b[38;5;241m=\u001b[39m fix_flags(\u001b[38;5;28mstr\u001b[39m, p\u001b[38;5;241m.\u001b[39mstate\u001b[38;5;241m.\u001b[39mflags)\n\u001b[0;32m    982\u001b[0m \u001b[38;5;28;01mif\u001b[39;00m source\u001b[38;5;241m.\u001b[39mnext \u001b[38;5;129;01mis\u001b[39;00m \u001b[38;5;129;01mnot\u001b[39;00m \u001b[38;5;28;01mNone\u001b[39;00m:\n",
      "File \u001b[1;32m~\\OneDrive\\Documentos\\PHYTON\\Lib\\re\\_parser.py:460\u001b[0m, in \u001b[0;36m_parse_sub\u001b[1;34m(source, state, verbose, nested)\u001b[0m\n\u001b[0;32m    458\u001b[0m start \u001b[38;5;241m=\u001b[39m source\u001b[38;5;241m.\u001b[39mtell()\n\u001b[0;32m    459\u001b[0m \u001b[38;5;28;01mwhile\u001b[39;00m \u001b[38;5;28;01mTrue\u001b[39;00m:\n\u001b[1;32m--> 460\u001b[0m     itemsappend(_parse(source, state, verbose, nested \u001b[38;5;241m+\u001b[39m \u001b[38;5;241m1\u001b[39m,\n\u001b[0;32m    461\u001b[0m                        \u001b[38;5;129;01mnot\u001b[39;00m nested \u001b[38;5;129;01mand\u001b[39;00m \u001b[38;5;129;01mnot\u001b[39;00m items))\n\u001b[0;32m    462\u001b[0m     \u001b[38;5;28;01mif\u001b[39;00m \u001b[38;5;129;01mnot\u001b[39;00m sourcematch(\u001b[38;5;124m\"\u001b[39m\u001b[38;5;124m|\u001b[39m\u001b[38;5;124m\"\u001b[39m):\n\u001b[0;32m    463\u001b[0m         \u001b[38;5;28;01mbreak\u001b[39;00m\n",
      "File \u001b[1;32m~\\OneDrive\\Documentos\\PHYTON\\Lib\\re\\_parser.py:864\u001b[0m, in \u001b[0;36m_parse\u001b[1;34m(source, state, verbose, nested, first)\u001b[0m\n\u001b[0;32m    862\u001b[0m p \u001b[38;5;241m=\u001b[39m _parse_sub(source, state, sub_verbose, nested \u001b[38;5;241m+\u001b[39m \u001b[38;5;241m1\u001b[39m)\n\u001b[0;32m    863\u001b[0m \u001b[38;5;28;01mif\u001b[39;00m \u001b[38;5;129;01mnot\u001b[39;00m source\u001b[38;5;241m.\u001b[39mmatch(\u001b[38;5;124m\"\u001b[39m\u001b[38;5;124m)\u001b[39m\u001b[38;5;124m\"\u001b[39m):\n\u001b[1;32m--> 864\u001b[0m     \u001b[38;5;28;01mraise\u001b[39;00m source\u001b[38;5;241m.\u001b[39merror(\u001b[38;5;124m\"\u001b[39m\u001b[38;5;124mmissing ), unterminated subpattern\u001b[39m\u001b[38;5;124m\"\u001b[39m,\n\u001b[0;32m    865\u001b[0m                        source\u001b[38;5;241m.\u001b[39mtell() \u001b[38;5;241m-\u001b[39m start)\n\u001b[0;32m    866\u001b[0m \u001b[38;5;28;01mif\u001b[39;00m group \u001b[38;5;129;01mis\u001b[39;00m \u001b[38;5;129;01mnot\u001b[39;00m \u001b[38;5;28;01mNone\u001b[39;00m:\n\u001b[0;32m    867\u001b[0m     state\u001b[38;5;241m.\u001b[39mclosegroup(group, p)\n",
      "\u001b[1;31merror\u001b[0m: missing ), unterminated subpattern at position 0"
     ]
    }
   ],
   "source": [
    "import re\n",
    "m=re.search(r\"(ab[cd]?\",'acdeabdabcde')\n",
    "m.groups()"
   ]
  },
  {
   "cell_type": "code",
   "execution_count": 41,
   "id": "c9da5f5b-cf75-482e-ab9d-52b3f9513798",
   "metadata": {},
   "outputs": [
    {
     "data": {
      "text/plain": [
       "('abd',)"
      ]
     },
     "execution_count": 41,
     "metadata": {},
     "output_type": "execute_result"
    }
   ],
   "source": [
    "import re\n",
    "m=re.search(r\"(ab[cd]?)\",'acdeabdabcde')\n",
    "m.groups()"
   ]
  },
  {
   "cell_type": "code",
   "execution_count": 43,
   "id": "d2589269-95c7-4ddb-b6a7-238a08bed5ad",
   "metadata": {},
   "outputs": [
    {
     "name": "stdout",
     "output_type": "stream",
     "text": [
      "<class 'datetime.timedelta'>\n"
     ]
    }
   ],
   "source": [
    "import datetime\n",
    "print(type(datetime.date(2012,1,1)-datetime.date(2011,1,1)))"
   ]
  },
  {
   "cell_type": "code",
   "execution_count": 45,
   "id": "dccbb9b1-4499-4135-8713-e56cbe61654d",
   "metadata": {},
   "outputs": [
    {
     "data": {
      "text/plain": [
       "[6, 7, 8, 9, 11, 12, 13, 14]"
      ]
     },
     "execution_count": 45,
     "metadata": {},
     "output_type": "execute_result"
    }
   ],
   "source": [
    "import itertools\n",
    "[i for i in filter(lambda x: x%5,\n",
    "                  itertools.islice(itertools.count(5), 10))]"
   ]
  },
  {
   "cell_type": "code",
   "execution_count": 47,
   "id": "4ca80c9c-f2c3-4ae4-9d59-d666552d2046",
   "metadata": {},
   "outputs": [
    {
     "name": "stdout",
     "output_type": "stream",
     "text": [
      "['abc123']\n"
     ]
    }
   ],
   "source": [
    "import re\n",
    "text=\"abc123def456ghi\"\n",
    "pattern=r\"(?:abc)\\d+\"\n",
    "matches=re.findall(pattern,text)\n",
    "print(matches)"
   ]
  },
  {
   "cell_type": "code",
   "execution_count": 49,
   "id": "a0a0f1c1-bcfb-401f-b2ac-0242ede80876",
   "metadata": {},
   "outputs": [
    {
     "ename": "SyntaxError",
     "evalue": "Missing parentheses in call to 'print'. Did you mean print(...)? (1921387706.py, line 4)",
     "output_type": "error",
     "traceback": [
      "\u001b[1;36m  Cell \u001b[1;32mIn[49], line 4\u001b[1;36m\u001b[0m\n\u001b[1;33m    print number1\u001b[0m\n\u001b[1;37m    ^\u001b[0m\n\u001b[1;31mSyntaxError\u001b[0m\u001b[1;31m:\u001b[0m Missing parentheses in call to 'print'. Did you mean print(...)?\n"
     ]
    }
   ],
   "source": [
    "def recibe_num(number):\n",
    "    return number*2\n",
    "number1= recibe_num(10)\n",
    "print number1"
   ]
  },
  {
   "cell_type": "code",
   "execution_count": 51,
   "id": "037a1bf4-c5e7-4210-ab84-0cea609d1701",
   "metadata": {},
   "outputs": [
    {
     "ename": "NameError",
     "evalue": "name 'number1' is not defined",
     "output_type": "error",
     "traceback": [
      "\u001b[1;31m---------------------------------------------------------------------------\u001b[0m",
      "\u001b[1;31mNameError\u001b[0m                                 Traceback (most recent call last)",
      "Cell \u001b[1;32mIn[51], line 1\u001b[0m\n\u001b[1;32m----> 1\u001b[0m \u001b[38;5;28mprint\u001b[39m(number1)\n",
      "\u001b[1;31mNameError\u001b[0m: name 'number1' is not defined"
     ]
    }
   ],
   "source": [
    "print(number1)"
   ]
  },
  {
   "cell_type": "code",
   "execution_count": 53,
   "id": "d54a4626-1eaa-4717-8f92-ff9e27512b10",
   "metadata": {},
   "outputs": [],
   "source": [
    "def recibe_num(number):\n",
    "    return number*2\n",
    "number1= recibe_num(10)"
   ]
  },
  {
   "cell_type": "code",
   "execution_count": 55,
   "id": "d8f1f6b6-20a3-4814-8ed3-097f6a466ba2",
   "metadata": {},
   "outputs": [
    {
     "name": "stdout",
     "output_type": "stream",
     "text": [
      "20\n"
     ]
    }
   ],
   "source": [
    "print (number1)"
   ]
  },
  {
   "cell_type": "code",
   "execution_count": 57,
   "id": "08a2130c-75fe-4806-9aeb-7d9c75ebfb74",
   "metadata": {},
   "outputs": [
    {
     "ename": "TypeError",
     "evalue": "'function' object is not subscriptable",
     "output_type": "error",
     "traceback": [
      "\u001b[1;31m---------------------------------------------------------------------------\u001b[0m",
      "\u001b[1;31mTypeError\u001b[0m                                 Traceback (most recent call last)",
      "Cell \u001b[1;32mIn[57], line 3\u001b[0m\n\u001b[0;32m      1\u001b[0m \u001b[38;5;28;01mdef\u001b[39;00m \u001b[38;5;21mrecibe_list\u001b[39m(\u001b[38;5;28mlist\u001b[39m):\n\u001b[0;32m      2\u001b[0m     \u001b[38;5;28;01mreturn\u001b[39;00m \u001b[38;5;28msum\u001b[39m (\u001b[38;5;28mlist\u001b[39m)\n\u001b[1;32m----> 3\u001b[0m list1\u001b[38;5;241m=\u001b[39mrecibe_list[\u001b[38;5;241m1\u001b[39m,\u001b[38;5;241m2\u001b[39m,\u001b[38;5;241m3\u001b[39m,\u001b[38;5;241m5\u001b[39m,\u001b[38;5;241m6\u001b[39m]\n",
      "\u001b[1;31mTypeError\u001b[0m: 'function' object is not subscriptable"
     ]
    }
   ],
   "source": [
    "def recibe_list(list):\n",
    "    return sum (list)\n",
    "list1=recibe_list[1,2,3,5,6]"
   ]
  },
  {
   "cell_type": "code",
   "execution_count": 59,
   "id": "5bfe8fbc-d476-44f0-8b89-8ddc6efc5ab9",
   "metadata": {},
   "outputs": [
    {
     "name": "stdout",
     "output_type": "stream",
     "text": [
      "17\n"
     ]
    }
   ],
   "source": [
    "def recibe_list(list):\n",
    "    return sum (list)\n",
    "list1=recibe_list([1,2,3,5,6])\n",
    "print (list1)"
   ]
  },
  {
   "cell_type": "code",
   "execution_count": 61,
   "id": "42ebd2d3-4dde-4201-89d9-94a4a02a4496",
   "metadata": {},
   "outputs": [
    {
     "name": "stdout",
     "output_type": "stream",
     "text": [
      "Impar\n"
     ]
    }
   ],
   "source": [
    "def par_impar(number):\n",
    "    if number %2:\n",
    "        print(\"Par\")\n",
    "    else:\n",
    "        print(\"Impar\")\n",
    "number1=par_impar(2)\n"
   ]
  },
  {
   "cell_type": "code",
   "execution_count": 63,
   "id": "5a3ee742-b49c-40a4-befc-22e4085fdbf0",
   "metadata": {},
   "outputs": [
    {
     "name": "stdout",
     "output_type": "stream",
     "text": [
      "Par\n"
     ]
    }
   ],
   "source": [
    "def par_impar(number):\n",
    "    if number %2==0:\n",
    "        print(\"Par\")\n",
    "    else:\n",
    "        print(\"Impar\")\n",
    "number1=par_impar(2)"
   ]
  },
  {
   "cell_type": "code",
   "execution_count": 65,
   "id": "ee6b80c8-7f0f-4bbe-a600-6c15f67a6071",
   "metadata": {},
   "outputs": [
    {
     "name": "stdout",
     "output_type": "stream",
     "text": [
      "Impar\n"
     ]
    }
   ],
   "source": [
    "number2=par_impar(3)"
   ]
  },
  {
   "cell_type": "code",
   "execution_count": 67,
   "id": "2c3cfdca-b3b4-4c71-99d7-9afaea586263",
   "metadata": {},
   "outputs": [
    {
     "ename": "SyntaxError",
     "evalue": "Missing parentheses in call to 'print'. Did you mean print(...)? (2210486220.py, line 4)",
     "output_type": "error",
     "traceback": [
      "\u001b[1;36m  Cell \u001b[1;32mIn[67], line 4\u001b[1;36m\u001b[0m\n\u001b[1;33m    print list2\u001b[0m\n\u001b[1;37m    ^\u001b[0m\n\u001b[1;31mSyntaxError\u001b[0m\u001b[1;31m:\u001b[0m Missing parentheses in call to 'print'. Did you mean print(...)?\n"
     ]
    }
   ],
   "source": [
    "def double_list(list):\n",
    "    return list*2\n",
    "list2=double_list([2,5,9,8,7])\n",
    "print list2"
   ]
  },
  {
   "cell_type": "code",
   "execution_count": 69,
   "id": "73ae0e1a-4041-41dc-9903-3e7b337ba3de",
   "metadata": {},
   "outputs": [
    {
     "ename": "NameError",
     "evalue": "name 'list2' is not defined",
     "output_type": "error",
     "traceback": [
      "\u001b[1;31m---------------------------------------------------------------------------\u001b[0m",
      "\u001b[1;31mNameError\u001b[0m                                 Traceback (most recent call last)",
      "Cell \u001b[1;32mIn[69], line 1\u001b[0m\n\u001b[1;32m----> 1\u001b[0m \u001b[38;5;28mprint\u001b[39m (list2)\n",
      "\u001b[1;31mNameError\u001b[0m: name 'list2' is not defined"
     ]
    }
   ],
   "source": [
    "print (list2)"
   ]
  },
  {
   "cell_type": "code",
   "execution_count": 71,
   "id": "6c3df3b9-3440-4a06-8a1c-55c5aff2fab0",
   "metadata": {},
   "outputs": [
    {
     "name": "stdout",
     "output_type": "stream",
     "text": [
      "[2, 5, 9, 8, 7, 2, 5, 9, 8, 7]\n"
     ]
    }
   ],
   "source": [
    "def double_list(list):\n",
    "    return list*2\n",
    "list2=double_list([2,5,9,8,7])\n",
    "print (list2)\n"
   ]
  },
  {
   "cell_type": "code",
   "execution_count": 73,
   "id": "06c70ff1-ba58-4275-be67-caf8d47859b1",
   "metadata": {},
   "outputs": [],
   "source": [
    "def triple_list(numbers):\n",
    "    result=[]\n",
    "    for i in numbers:\n",
    "        result.append(i*2)\n",
    "    return result\n",
    "list3=triple_list([2,9,8,7,8])"
   ]
  },
  {
   "cell_type": "code",
   "execution_count": 75,
   "id": "5a920e07-62a8-4d0f-a538-ded2cf6b0b7e",
   "metadata": {},
   "outputs": [
    {
     "name": "stdout",
     "output_type": "stream",
     "text": [
      "[4, 18, 16, 14, 16]\n"
     ]
    }
   ],
   "source": [
    "print(list3)"
   ]
  },
  {
   "cell_type": "code",
   "execution_count": 77,
   "id": "56f92108-6110-4aec-8900-595915d19a6f",
   "metadata": {},
   "outputs": [],
   "source": [
    "list3.append(10)"
   ]
  },
  {
   "cell_type": "code",
   "execution_count": 79,
   "id": "cc3f4511-ddc1-44d1-8224-3ff9974fdc2b",
   "metadata": {},
   "outputs": [
    {
     "name": "stdout",
     "output_type": "stream",
     "text": [
      "[4, 18, 16, 14, 16, 10]\n"
     ]
    }
   ],
   "source": [
    "print (list3)"
   ]
  },
  {
   "cell_type": "code",
   "execution_count": 81,
   "id": "bf9d9c16-7c3b-4535-b795-1f597025a4af",
   "metadata": {},
   "outputs": [
    {
     "ename": "TypeError",
     "evalue": "'function' object is not subscriptable",
     "output_type": "error",
     "traceback": [
      "\u001b[1;31m---------------------------------------------------------------------------\u001b[0m",
      "\u001b[1;31mTypeError\u001b[0m                                 Traceback (most recent call last)",
      "Cell \u001b[1;32mIn[81], line 5\u001b[0m\n\u001b[0;32m      3\u001b[0m     \u001b[38;5;28;01mfor\u001b[39;00m i \u001b[38;5;129;01min\u001b[39;00m maximum:\n\u001b[0;32m      4\u001b[0m         \u001b[38;5;28;01mreturn\u001b[39;00m \u001b[38;5;28mmax\u001b[39m(maximum)\n\u001b[1;32m----> 5\u001b[0m list4\u001b[38;5;241m=\u001b[39m return_max[\u001b[38;5;241m8\u001b[39m,\u001b[38;5;241m9\u001b[39m,\u001b[38;5;241m6\u001b[39m,\u001b[38;5;241m10\u001b[39m]\n\u001b[0;32m      6\u001b[0m \u001b[38;5;28mprint\u001b[39m(list4)\n",
      "\u001b[1;31mTypeError\u001b[0m: 'function' object is not subscriptable"
     ]
    }
   ],
   "source": [
    "def return_max(maximum):\n",
    "    result=[]\n",
    "    for i in maximum:\n",
    "        return max(maximum)\n",
    "list4= return_max[8,9,6,10]\n",
    "print(list4)\n"
   ]
  },
  {
   "cell_type": "code",
   "execution_count": 83,
   "id": "ed3c6e0a-98cc-4ef7-bba0-03f177cd6859",
   "metadata": {},
   "outputs": [],
   "source": [
    "def return_max(maximum):\n",
    "    result=[]\n",
    "    for i in maximum:\n",
    "        return max(maximum)\n",
    "list4= return_max([8,9,6,10])"
   ]
  },
  {
   "cell_type": "code",
   "execution_count": 85,
   "id": "33b86cf5-63e8-43cf-8390-f2357958d8b4",
   "metadata": {},
   "outputs": [
    {
     "name": "stdout",
     "output_type": "stream",
     "text": [
      "10\n"
     ]
    }
   ],
   "source": [
    "print (list4)"
   ]
  },
  {
   "cell_type": "code",
   "execution_count": 87,
   "id": "a307af12-97c5-4344-b89c-678ff635532a",
   "metadata": {},
   "outputs": [
    {
     "data": {
      "text/plain": [
       "5.0"
      ]
     },
     "execution_count": 87,
     "metadata": {},
     "output_type": "execute_result"
    }
   ],
   "source": [
    "def dividir(a, b):\n",
    "    breakpoint()  # aquí se detendrá la ejecución\n",
    "    return a / b\n",
    "\n",
    "dividir(10, 2)\n"
   ]
  },
  {
   "cell_type": "code",
   "execution_count": 89,
   "id": "3893926c-a03b-4ab1-b478-1a1d2200d9e4",
   "metadata": {},
   "outputs": [
    {
     "ename": "ZeroDivisionError",
     "evalue": "division by zero",
     "output_type": "error",
     "traceback": [
      "\u001b[1;31m---------------------------------------------------------------------------\u001b[0m",
      "\u001b[1;31mZeroDivisionError\u001b[0m                         Traceback (most recent call last)",
      "Cell \u001b[1;32mIn[89], line 7\u001b[0m\n\u001b[0;32m      4\u001b[0m resultados \u001b[38;5;241m=\u001b[39m []\n\u001b[0;32m      6\u001b[0m \u001b[38;5;28;01mfor\u001b[39;00m i \u001b[38;5;129;01min\u001b[39;00m \u001b[38;5;28mrange\u001b[39m(\u001b[38;5;28mlen\u001b[39m(numeros)):\n\u001b[1;32m----> 7\u001b[0m     z \u001b[38;5;241m=\u001b[39m numeros[i] \u001b[38;5;241m/\u001b[39m divisores[i]  \u001b[38;5;66;03m# ⚠️ aquí puede fallar\u001b[39;00m\n\u001b[0;32m      8\u001b[0m     resultados\u001b[38;5;241m.\u001b[39mappend(z)\n\u001b[0;32m     10\u001b[0m \u001b[38;5;28mprint\u001b[39m(resultados)\n",
      "\u001b[1;31mZeroDivisionError\u001b[0m: division by zero"
     ]
    }
   ],
   "source": [
    "numeros = [10, 20, 30, 40]\n",
    "divisores = [2, 0, 5, 0]  # algunos son cero, aquí podría pasar ZeroDivisionError\n",
    "\n",
    "resultados = []\n",
    "\n",
    "for i in range(len(numeros)):\n",
    "    z = numeros[i] / divisores[i]  # ⚠️ aquí puede fallar\n",
    "    resultados.append(z)\n",
    "\n",
    "print(resultados)\n"
   ]
  },
  {
   "cell_type": "code",
   "execution_count": 93,
   "id": "bd4c078a-7ffa-4dfa-bd67-9cbe4bf0c535",
   "metadata": {},
   "outputs": [
    {
     "name": "stdout",
     "output_type": "stream",
     "text": [
      "[5.0, 2.0, 6.0, 4.0]\n"
     ]
    }
   ],
   "source": [
    "numeros = [10, 20, 30, 40]\n",
    "divisores = [2, 10, 5, 10]\n",
    "\n",
    "resultados = []\n",
    "\n",
    "for i in range(len(numeros)):\n",
    "    breakpoint()  # la ejecución se detiene aquí\n",
    "    z = numeros[i] / divisores[i]\n",
    "    resultados.append(z)\n",
    "\n",
    "print(resultados)\n"
   ]
  },
  {
   "cell_type": "code",
   "execution_count": null,
   "id": "7e352ff3-7c64-435b-8706-348846f4c59d",
   "metadata": {},
   "outputs": [],
   "source": []
  }
 ],
 "metadata": {
  "kernelspec": {
   "display_name": "Python 3 (ipykernel)",
   "language": "python",
   "name": "python3"
  },
  "language_info": {
   "codemirror_mode": {
    "name": "ipython",
    "version": 3
   },
   "file_extension": ".py",
   "mimetype": "text/x-python",
   "name": "python",
   "nbconvert_exporter": "python",
   "pygments_lexer": "ipython3",
   "version": "3.12.7"
  }
 },
 "nbformat": 4,
 "nbformat_minor": 5
}
